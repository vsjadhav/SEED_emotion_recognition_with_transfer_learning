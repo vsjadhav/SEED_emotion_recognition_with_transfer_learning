{
 "cells": [
  {
   "cell_type": "markdown",
   "id": "1d871902",
   "metadata": {},
   "source": [
    "The output is a batch of feature vectors. For each input image, the feature vector has size num_features = 2048. The feature vectors can then be used further, e.g., for classification as above.\n",
    "\n",
    "The input images are expected to have color values in the range [0,1], following the common image input conventions. The expected size of the input images is height x width = 299 x 299 pixels by default, but other input sizes are possible (within limits).\n",
    "\n"
   ]
  },
  {
   "cell_type": "code",
   "execution_count": 19,
   "id": "38528827",
   "metadata": {},
   "outputs": [],
   "source": [
    "%reset -f"
   ]
  },
  {
   "cell_type": "code",
   "execution_count": 1,
   "id": "4c6c80b2",
   "metadata": {},
   "outputs": [],
   "source": [
    "dataset_path = \"C:/Users/vaibhav.jadhav/Downloads/seed_4_dataset/seed_4\""
   ]
  },
  {
   "cell_type": "code",
   "execution_count": 2,
   "id": "5ba24e72",
   "metadata": {},
   "outputs": [],
   "source": [
    "spectrogram_height = 229\n",
    "spectrogram_width = 229\n",
    "hop_size = 3\n",
    "\n",
    "frame_size = ((spectrogram_height-1) * 2)\n",
    "sample_size = ((spectrogram_width-1) * hop_size)"
   ]
  },
  {
   "cell_type": "code",
   "execution_count": 3,
   "id": "d72a6c4f",
   "metadata": {},
   "outputs": [],
   "source": [
    "fs = 200"
   ]
  },
  {
   "cell_type": "code",
   "execution_count": null,
   "id": "c0abc995",
   "metadata": {},
   "outputs": [],
   "source": []
  },
  {
   "cell_type": "code",
   "execution_count": 4,
   "id": "59a83205",
   "metadata": {},
   "outputs": [],
   "source": [
    "import os\n",
    "import sys\n",
    "import math\n",
    "import numpy as np\n",
    "# import pandas as pd\n",
    "import scipy.io as sio\n",
    "from sklearn import preprocessing\n",
    "from scipy.signal import butter, lfilter\n",
    "from scipy.io import loadmat"
   ]
  },
  {
   "cell_type": "code",
   "execution_count": 5,
   "id": "0e40bc98",
   "metadata": {},
   "outputs": [],
   "source": [
    "import os\n",
    "import librosa\n",
    "import librosa.display\n",
    "import IPython.display as ipd\n",
    "import numpy as np\n",
    "import matplotlib.pyplot as plt"
   ]
  },
  {
   "cell_type": "code",
   "execution_count": 6,
   "id": "13dfeea3",
   "metadata": {},
   "outputs": [],
   "source": [
    "import tensorflow_hub as hub"
   ]
  },
  {
   "cell_type": "code",
   "execution_count": 7,
   "id": "15fc8569",
   "metadata": {},
   "outputs": [],
   "source": [
    "import gc"
   ]
  },
  {
   "cell_type": "code",
   "execution_count": 8,
   "id": "dbc80bd6",
   "metadata": {},
   "outputs": [],
   "source": [
    "import time"
   ]
  },
  {
   "cell_type": "code",
   "execution_count": null,
   "id": "1d7fe769",
   "metadata": {},
   "outputs": [],
   "source": []
  },
  {
   "cell_type": "code",
   "execution_count": 9,
   "id": "d19a3bc3",
   "metadata": {},
   "outputs": [],
   "source": [
    "def butter_bandpass(lowcut, highcut, fs, order=5):\n",
    "    nyq = 0.5 * fs\n",
    "    low = lowcut / nyq\n",
    "    high = highcut / nyq\n",
    "    b, a = butter(order, [low, high], btype='band')\n",
    "    return b, a\n",
    "\n",
    "\n",
    "def butter_bandpass_filter(data, lowcut, highcut, fs, order=5):\n",
    "    b, a = butter_bandpass(lowcut, highcut, fs, order=order)\n",
    "    y = lfilter(b, a, data)\n",
    "    return y"
   ]
  },
  {
   "cell_type": "code",
   "execution_count": 10,
   "id": "0a5c64ad",
   "metadata": {},
   "outputs": [],
   "source": [
    "def compute_spectrogram(signal, sr=fs,frame_size = frame_size, hop = hop_size):\n",
    "    stft = librosa.stft(signal, n_fft=frame_size, hop_length=hop)\n",
    "    log_stft= librosa.power_to_db(np.abs(stft) ** 2)\n",
    "    return log_stft\n",
    "#     print(log_stft.shape)\n",
    "#     plot_spectrogram(log_stft, sr, hop, y_axis=\"log\")"
   ]
  },
  {
   "cell_type": "code",
   "execution_count": 11,
   "id": "588a64b9",
   "metadata": {},
   "outputs": [],
   "source": [
    "def plot_spectrogram(Y, sr=fs, hop_length=hop_size, y_axis=\"linear\"):\n",
    "    plt.figure(figsize=(25, 10))\n",
    "    librosa.display.specshow(Y, \n",
    "                             sr=sr, \n",
    "                             hop_length=hop_length, \n",
    "                             x_axis=\"time\", \n",
    "                             y_axis=y_axis)\n",
    "    plt.colorbar(format=\"%+2.f\")"
   ]
  },
  {
   "cell_type": "code",
   "execution_count": null,
   "id": "91b393b4",
   "metadata": {},
   "outputs": [],
   "source": []
  },
  {
   "cell_type": "code",
   "execution_count": 12,
   "id": "090ebf9d",
   "metadata": {},
   "outputs": [],
   "source": [
    "session1_label = [1,2,3,0,2,0,0,1,0,1,2,1,1,1,2,3,2,2,3,3,0,3,0,3]\n",
    "session2_label = [2,1,3,0,0,2,0,2,3,3,2,3,2,0,1,1,2,1,0,3,0,1,3,1]\n",
    "session3_label = [1,2,2,1,3,3,3,1,1,2,1,0,2,3,3,0,2,3,0,0,2,0,1,0]"
   ]
  },
  {
   "cell_type": "code",
   "execution_count": 13,
   "id": "075d8e95",
   "metadata": {},
   "outputs": [
    {
     "data": {
      "text/plain": [
       "{1: [1, 2, 3, 0, 2, 0, 0, 1, 0, 1, 2, 1, 1, 1, 2, 3, 2, 2, 3, 3, 0, 3, 0, 3],\n",
       " 2: [2, 1, 3, 0, 0, 2, 0, 2, 3, 3, 2, 3, 2, 0, 1, 1, 2, 1, 0, 3, 0, 1, 3, 1],\n",
       " 3: [1, 2, 2, 1, 3, 3, 3, 1, 1, 2, 1, 0, 2, 3, 3, 0, 2, 3, 0, 0, 2, 0, 1, 0]}"
      ]
     },
     "execution_count": 13,
     "metadata": {},
     "output_type": "execute_result"
    }
   ],
   "source": [
    "session_label_dict = {}\n",
    "session_label_dict[1] = session1_label\n",
    "session_label_dict[2] = session2_label\n",
    "session_label_dict[3] = session3_label\n",
    "session_label_dict"
   ]
  },
  {
   "cell_type": "code",
   "execution_count": 14,
   "id": "50b60b57",
   "metadata": {},
   "outputs": [],
   "source": [
    "all_trial_sizes = {}\n",
    "for exp in range(1,4):\n",
    "    all_trial_sizes[exp] = []"
   ]
  },
  {
   "cell_type": "code",
   "execution_count": 15,
   "id": "c300d97c",
   "metadata": {},
   "outputs": [],
   "source": [
    "fs = 200\n",
    "\n",
    "def decompose_ram_efficient(file, file_mat, exp_id):\n",
    "    t_start = time.time()\n",
    "    # trial*channel*sample\n",
    "    feature_extractor_model = \"https://tfhub.dev/google/imagenet/inception_v3/feature_vector/5\"\n",
    "    out_dim_of_TL_model = 2048\n",
    "    data = loadmat(file)\n",
    "    frequency = fs\n",
    "#     time_window = 0.5\n",
    "#     data_points_per_sample = frequency * time_window  #fz = 200per sec -> 100 data_points per 0.5sec window\n",
    "    data_points_per_sample = sample_size\n",
    "    name = \"\"\n",
    "    for char in list(data.keys())[7]: #instead of 7, u can pass any no. between 3 and 15\n",
    "      if char == \"_\":\n",
    "        break\n",
    "      name = name+char\n",
    "\n",
    "#     fft_crop_length = 21 \n",
    "\n",
    "    decomposed_specgram = np.empty([0, 62, 229, 229, 3])\n",
    "    label = np.array([])\n",
    "\n",
    "\n",
    "    x_TL_features = np.empty([0, 62, out_dim_of_TL_model])\n",
    "    \n",
    "    \n",
    "    for trial in range(24):\n",
    "        tmp_trial_signal = data[name + '_eeg' + str(trial + 1)]\n",
    "        num_sample = int(len(tmp_trial_signal[0]) / data_points_per_sample) \n",
    "        print('{}-{}'.format(trial + 1, num_sample))\n",
    "        all_trial_sizes[exp_id].append(num_sample)\n",
    "\n",
    "        # temp_fft = np.empty([0, num_sample, 21])\n",
    "        temp_specgram = np.empty([0, 229, 229])\n",
    "        label = np.append(label, [session_label_dict[exp_id][trial]] * num_sample)\n",
    "\n",
    "        t1_spec  =time.time()\n",
    "        for channel in range(62):\n",
    "            trial_signal = tmp_trial_signal[channel]\n",
    "\n",
    "            delta_theta_alpha = butter_bandpass_filter(trial_signal, 1, 14, frequency, order=3)\n",
    "            delta_theta_alpha = delta_theta_alpha+abs(np.min(delta_theta_alpha))\n",
    "            delta_theta_alpha = delta_theta_alpha/np.max(delta_theta_alpha)\n",
    "            \n",
    "            beta = butter_bandpass_filter(trial_signal, 14, 31, frequency, order=3)\n",
    "            beta = beta+abs(np.min(beta))\n",
    "            beta = beta/np.max(beta)\n",
    "            \n",
    "            gamma = butter_bandpass_filter(trial_signal, 31, 51, frequency, order=3)\n",
    "            gamma = gamma+abs(np.min(gamma))\n",
    "            gamma = gamma/np.max(gamma)\n",
    "\n",
    "            specgram_delta_theta_alpha = np.zeros(shape=[0, 229, 229], dtype=float)\n",
    "            specgram_beta = np.zeros(shape=[0, 229, 229], dtype=float)\n",
    "            specgram_gamma = np.zeros(shape=[0, 229, 229], dtype=float)\n",
    "\n",
    "            for index in range(num_sample):\n",
    "                specgram_delta_theta_alpha = np.vstack([specgram_delta_theta_alpha, compute_spectrogram(delta_theta_alpha[index * sample_size:(index + 1) * sample_size]).reshape(1,229,229)])\n",
    "                specgram_beta = np.vstack([specgram_beta, compute_spectrogram(beta[index * sample_size:(index + 1) * sample_size]).reshape(1,229,229)])\n",
    "                specgram_gamma = np.vstack([specgram_gamma, compute_spectrogram(gamma[index * sample_size:(index + 1) * sample_size]).reshape(1,229,229)])\n",
    "                # print(fft_delta.shape, fft_theta.shape, fft_alpha.shape, fft_beta.shape, fft_gamma.shape)\n",
    "\n",
    "            temp_specgram = np.vstack([temp_specgram, specgram_delta_theta_alpha])\n",
    "            temp_specgram = np.vstack([temp_specgram, specgram_beta])\n",
    "            temp_specgram = np.vstack([temp_specgram, specgram_gamma])\n",
    "\n",
    "        t2_spec = time.time()\n",
    "        temp_trial_specgram = temp_specgram.reshape(-1, 3, num_sample, 229, 229)\n",
    "        temp_trial_specgram = temp_trial_specgram.transpose([2, 0, 3, 4, 1])\n",
    "        subject_id = \"\"\n",
    "        for i in file_mat:\n",
    "            if i == \"_\":\n",
    "                break\n",
    "            subject_id += i\n",
    "#         np.save(f\"{dataset_path}/my_extracted_features/spectrogram(229_229_3)/{subject_id}_{trial+1}_X_1D.npy\",temp_trial_specgram)\n",
    "#         decomposed_specgram = np.vstack([decomposed_specgram, temp_trial_specgram])\n",
    "#         \n",
    "\n",
    "        subject = subject_id\n",
    "#         trial_group = en+1\n",
    "\n",
    "\n",
    "        temp_x = temp_trial_specgram #(#,62,229,229,3)\n",
    "        print(f\"time for subject:{subject}, exp:{exp_id} and trial:{trial+1} for specgrams is: {t2_spec - t1_spec}\")\n",
    "        print(f\"subject:{subject}, exp:{exp_id} and trial:{trial+1} has specgrams as: {temp_x.shape}\")\n",
    "        \n",
    "        # spectrogram creation complete\n",
    "        \n",
    "############################# TL start ##################################    \n",
    "        # starting Transefer learning, forward pass in inception v3 with top layer removed\n",
    "        t1_TL = time.time()\n",
    "        pretrained_model_without_top_layer = hub.KerasLayer(\n",
    "            feature_extractor_model, input_shape=(229, 229, 3), trainable=False)\n",
    "\n",
    "        \n",
    "        for sample in range(temp_x.shape[0]):\n",
    "            temp_x_TL_features = np.empty([0, out_dim_of_TL_model])\n",
    "            for channel in range(temp_x.shape[1]):\n",
    "                results = ((np.array(pretrained_model_without_top_layer(temp_x[sample,channel].reshape((1,229,229,3))))))\n",
    "                temp_x_TL_features = np.vstack([temp_x_TL_features, results])\n",
    "            temp_x_TL_features = temp_x_TL_features.reshape((1,temp_x_TL_features.shape[0],out_dim_of_TL_model))\n",
    "            x_TL_features = np.vstack([x_TL_features, temp_x_TL_features])\n",
    "        \n",
    "        t2_TL = time.time()\n",
    "        print(f\"time for subject:{subject}, exp:{exp_id} and trial:{trial+1} for TL is: {t2_TL - t1_TL}\")\n",
    "        temp_x = None \n",
    "        temp_trial_specgram = None\n",
    "        gc.collect()\n",
    "############################# TL done ##################################        \n",
    "    \n",
    "####converting EEG signals to 8x9 feature map, to capture their spatial information and pass to CNN model later ####\n",
    "####for more information about 8x9 map, refer to paper with following link or DOI ####\n",
    "# link: https://www.itm-conferences.org/articles/itmconf/abs/2023/03/itmconf_icdsia2023_02011/itmconf_icdsia2023_02011.html\n",
    "# DOI: https://doi.org/10.1051/itmconf/20235302011        \n",
    "    print(f\"TL_features_for subject:{subject} and exp:{exp_id} -> {x_TL_features.shape}\")\n",
    "\n",
    "    t1_x89 = time.time()\n",
    "    X89 = np.zeros((x_TL_features.shape[0], 8, 9, out_dim_of_TL_model))\n",
    "    \n",
    "    X89[:, 0, 2, :] = x_TL_features[:, 3, :]\n",
    "    X89[:, 0, 3:6, :] = x_TL_features[:, 0:3, :]\n",
    "    X89[:, 0, 6, :] = x_TL_features[:, 4, :]\n",
    "\n",
    "    for i in range(5):\n",
    "      X89[:, i + 1, :, :] = x_TL_features[:, 5 + i * 9:5 + (i + 1) * 9, :]\n",
    "\n",
    "    X89[:, 6, 1:8, :] = x_TL_features[:, 50:57, :]\n",
    "    X89[:, 7, 2:7, :] = x_TL_features[:, 57:62, :]\n",
    "    \n",
    "    t2_x89 = time.time()\n",
    "    print(f\"time for 8*9 map for subject:{subject} and exp:{exp_id} is -> {t2_x89 - t1_x89}\")\n",
    "    print(f\"8*9 map dim for subject:{subject} and exp:{exp_id} is -> {X89.shape}\")\n",
    "\n",
    "\n",
    "    np.save(f\"{dataset_path}/my_extracted_features/spectrogram(224_224_3)/TL_inception_v3/{subject}_{exp_id}_X89.npy\",X89)\n",
    "    np.save(f\"{dataset_path}/my_extracted_features/spectrogram(224_224_3)/TL_inception_v3/{subject}_{exp_id}_y.npy\",label)\n",
    "\n",
    "    t_end = time.time()\n",
    "    print(f\"time for subject:{subject} and exp:{exp_id} is -> {t_end - t_start} sec.\")\n",
    "#     x89 = np.load(f\"{dataset_path}/my_extracted_features/spectrogram(224_224_3)/TL_mobilenet_v2/{subject}_{trial_group}_X89.npy\")\n",
    "#     print(x89.shape)\n",
    "    print(\"######################################################\")\n",
    "\n",
    "\n",
    "#         %reset -f\n",
    "    "
   ]
  },
  {
   "cell_type": "code",
   "execution_count": null,
   "id": "b057235e",
   "metadata": {},
   "outputs": [],
   "source": []
  },
  {
   "cell_type": "code",
   "execution_count": 16,
   "id": "88df5761",
   "metadata": {},
   "outputs": [],
   "source": [
    "eeg_raw_file_path = f\"{dataset_path}/eeg_raw_data/\"\n"
   ]
  },
  {
   "cell_type": "code",
   "execution_count": 17,
   "id": "1ed27cef",
   "metadata": {},
   "outputs": [],
   "source": [
    "session_file_dict = {}\n",
    "for exp in range(1,4):\n",
    "    files = os.listdir(f\"{eeg_raw_file_path}{str(exp)}\")\n",
    "    files.sort(key= (lambda i : i[:2] if i[1]!=\"_\" else \"0\"+i[0]) )\n",
    "    session_file_dict[exp] = files"
   ]
  },
  {
   "cell_type": "code",
   "execution_count": 18,
   "id": "11b6d2f1",
   "metadata": {},
   "outputs": [
    {
     "data": {
      "text/plain": [
       "{1: ['1_20160518.mat',\n",
       "  '2_20150915.mat',\n",
       "  '3_20150919.mat',\n",
       "  '4_20151111.mat',\n",
       "  '5_20160406.mat',\n",
       "  '6_20150507.mat',\n",
       "  '7_20150715.mat',\n",
       "  '8_20151103.mat',\n",
       "  '9_20151028.mat',\n",
       "  '10_20151014.mat',\n",
       "  '11_20150916.mat',\n",
       "  '12_20150725.mat',\n",
       "  '13_20151115.mat',\n",
       "  '14_20151205.mat',\n",
       "  '15_20150508.mat'],\n",
       " 2: ['1_20161125.mat',\n",
       "  '2_20150920.mat',\n",
       "  '3_20151018.mat',\n",
       "  '4_20151118.mat',\n",
       "  '5_20160413.mat',\n",
       "  '6_20150511.mat',\n",
       "  '7_20150717.mat',\n",
       "  '8_20151110.mat',\n",
       "  '9_20151119.mat',\n",
       "  '10_20151021.mat',\n",
       "  '11_20150921.mat',\n",
       "  '12_20150804.mat',\n",
       "  '13_20151125.mat',\n",
       "  '14_20151208.mat',\n",
       "  '15_20150514.mat'],\n",
       " 3: ['1_20161126.mat',\n",
       "  '2_20151012.mat',\n",
       "  '3_20151101.mat',\n",
       "  '4_20151123.mat',\n",
       "  '5_20160420.mat',\n",
       "  '6_20150512.mat',\n",
       "  '7_20150721.mat',\n",
       "  '8_20151117.mat',\n",
       "  '9_20151209.mat',\n",
       "  '10_20151023.mat',\n",
       "  '11_20151011.mat',\n",
       "  '12_20150807.mat',\n",
       "  '13_20161130.mat',\n",
       "  '14_20151215.mat',\n",
       "  '15_20150527.mat']}"
      ]
     },
     "execution_count": 18,
     "metadata": {},
     "output_type": "execute_result"
    }
   ],
   "source": [
    "session_file_dict"
   ]
  },
  {
   "cell_type": "code",
   "execution_count": null,
   "id": "56e32856",
   "metadata": {},
   "outputs": [],
   "source": []
  },
  {
   "cell_type": "markdown",
   "id": "12b9c6c3",
   "metadata": {
    "scrolled": false
   },
   "source": [
    "for subject in range(13,14):\n",
    "    for exp in range(2,4):\n",
    "        file_name = f\"{eeg_raw_file_path}{str(exp)}/{session_file_dict[exp][subject]}\"\n",
    "        print(f'processing {session_file_dict[exp][subject]}')\n",
    "        decompose_ram_efficient(file_name, session_file_dict[exp][subject], exp)\n",
    "    for exp in range(1,4):\n",
    "        all_trial_sizes[exp] = []\n",
    "    print(\"###########################################################\")"
   ]
  },
  {
   "cell_type": "code",
   "execution_count": 20,
   "id": "60eb8948",
   "metadata": {},
   "outputs": [
    {
     "name": "stdout",
     "output_type": "stream",
     "text": [
      "processing 15_20150508.mat\n",
      "1-49\n",
      "time for subject:15, exp:1 and trial:1 for specgrams is: 142.44820833206177\n",
      "subject:15, exp:1 and trial:1 has specgrams as: (49, 62, 229, 229, 3)\n",
      "time for subject:15, exp:1 and trial:1 for TL is: 234.29948210716248\n",
      "2-27\n"
     ]
    },
    {
     "ename": "KeyboardInterrupt",
     "evalue": "",
     "output_type": "error",
     "traceback": [
      "\u001b[1;31m---------------------------------------------------------------------------\u001b[0m",
      "\u001b[1;31mKeyboardInterrupt\u001b[0m                         Traceback (most recent call last)",
      "\u001b[1;32mC:\\Users\\VAIBHA~1.IMA\\AppData\\Local\\Temp/ipykernel_16308/2110318824.py\u001b[0m in \u001b[0;36m<module>\u001b[1;34m\u001b[0m\n\u001b[0;32m      3\u001b[0m         \u001b[0mfile_name\u001b[0m \u001b[1;33m=\u001b[0m \u001b[1;34mf\"{eeg_raw_file_path}{str(exp)}/{session_file_dict[exp][subject]}\"\u001b[0m\u001b[1;33m\u001b[0m\u001b[1;33m\u001b[0m\u001b[0m\n\u001b[0;32m      4\u001b[0m         \u001b[0mprint\u001b[0m\u001b[1;33m(\u001b[0m\u001b[1;34mf'processing {session_file_dict[exp][subject]}'\u001b[0m\u001b[1;33m)\u001b[0m\u001b[1;33m\u001b[0m\u001b[1;33m\u001b[0m\u001b[0m\n\u001b[1;32m----> 5\u001b[1;33m         \u001b[0mdecompose_ram_efficient\u001b[0m\u001b[1;33m(\u001b[0m\u001b[0mfile_name\u001b[0m\u001b[1;33m,\u001b[0m \u001b[0msession_file_dict\u001b[0m\u001b[1;33m[\u001b[0m\u001b[0mexp\u001b[0m\u001b[1;33m]\u001b[0m\u001b[1;33m[\u001b[0m\u001b[0msubject\u001b[0m\u001b[1;33m]\u001b[0m\u001b[1;33m,\u001b[0m \u001b[0mexp\u001b[0m\u001b[1;33m)\u001b[0m\u001b[1;33m\u001b[0m\u001b[1;33m\u001b[0m\u001b[0m\n\u001b[0m\u001b[0;32m      6\u001b[0m     \u001b[1;32mfor\u001b[0m \u001b[0mexp\u001b[0m \u001b[1;32min\u001b[0m \u001b[0mrange\u001b[0m\u001b[1;33m(\u001b[0m\u001b[1;36m1\u001b[0m\u001b[1;33m,\u001b[0m\u001b[1;36m4\u001b[0m\u001b[1;33m)\u001b[0m\u001b[1;33m:\u001b[0m\u001b[1;33m\u001b[0m\u001b[1;33m\u001b[0m\u001b[0m\n\u001b[0;32m      7\u001b[0m         \u001b[0mall_trial_sizes\u001b[0m\u001b[1;33m[\u001b[0m\u001b[0mexp\u001b[0m\u001b[1;33m]\u001b[0m \u001b[1;33m=\u001b[0m \u001b[1;33m[\u001b[0m\u001b[1;33m]\u001b[0m\u001b[1;33m\u001b[0m\u001b[1;33m\u001b[0m\u001b[0m\n",
      "\u001b[1;32mC:\\Users\\VAIBHA~1.IMA\\AppData\\Local\\Temp/ipykernel_16308/2853420607.py\u001b[0m in \u001b[0;36mdecompose_ram_efficient\u001b[1;34m(file, file_mat, exp_id)\u001b[0m\n\u001b[0;32m     59\u001b[0m                 \u001b[0mspecgram_delta_theta_alpha\u001b[0m \u001b[1;33m=\u001b[0m \u001b[0mnp\u001b[0m\u001b[1;33m.\u001b[0m\u001b[0mvstack\u001b[0m\u001b[1;33m(\u001b[0m\u001b[1;33m[\u001b[0m\u001b[0mspecgram_delta_theta_alpha\u001b[0m\u001b[1;33m,\u001b[0m \u001b[0mcompute_spectrogram\u001b[0m\u001b[1;33m(\u001b[0m\u001b[0mdelta_theta_alpha\u001b[0m\u001b[1;33m[\u001b[0m\u001b[0mindex\u001b[0m \u001b[1;33m*\u001b[0m \u001b[0msample_size\u001b[0m\u001b[1;33m:\u001b[0m\u001b[1;33m(\u001b[0m\u001b[0mindex\u001b[0m \u001b[1;33m+\u001b[0m \u001b[1;36m1\u001b[0m\u001b[1;33m)\u001b[0m \u001b[1;33m*\u001b[0m \u001b[0msample_size\u001b[0m\u001b[1;33m]\u001b[0m\u001b[1;33m)\u001b[0m\u001b[1;33m.\u001b[0m\u001b[0mreshape\u001b[0m\u001b[1;33m(\u001b[0m\u001b[1;36m1\u001b[0m\u001b[1;33m,\u001b[0m\u001b[1;36m229\u001b[0m\u001b[1;33m,\u001b[0m\u001b[1;36m229\u001b[0m\u001b[1;33m)\u001b[0m\u001b[1;33m]\u001b[0m\u001b[1;33m)\u001b[0m\u001b[1;33m\u001b[0m\u001b[1;33m\u001b[0m\u001b[0m\n\u001b[0;32m     60\u001b[0m                 \u001b[0mspecgram_beta\u001b[0m \u001b[1;33m=\u001b[0m \u001b[0mnp\u001b[0m\u001b[1;33m.\u001b[0m\u001b[0mvstack\u001b[0m\u001b[1;33m(\u001b[0m\u001b[1;33m[\u001b[0m\u001b[0mspecgram_beta\u001b[0m\u001b[1;33m,\u001b[0m \u001b[0mcompute_spectrogram\u001b[0m\u001b[1;33m(\u001b[0m\u001b[0mbeta\u001b[0m\u001b[1;33m[\u001b[0m\u001b[0mindex\u001b[0m \u001b[1;33m*\u001b[0m \u001b[0msample_size\u001b[0m\u001b[1;33m:\u001b[0m\u001b[1;33m(\u001b[0m\u001b[0mindex\u001b[0m \u001b[1;33m+\u001b[0m \u001b[1;36m1\u001b[0m\u001b[1;33m)\u001b[0m \u001b[1;33m*\u001b[0m \u001b[0msample_size\u001b[0m\u001b[1;33m]\u001b[0m\u001b[1;33m)\u001b[0m\u001b[1;33m.\u001b[0m\u001b[0mreshape\u001b[0m\u001b[1;33m(\u001b[0m\u001b[1;36m1\u001b[0m\u001b[1;33m,\u001b[0m\u001b[1;36m229\u001b[0m\u001b[1;33m,\u001b[0m\u001b[1;36m229\u001b[0m\u001b[1;33m)\u001b[0m\u001b[1;33m]\u001b[0m\u001b[1;33m)\u001b[0m\u001b[1;33m\u001b[0m\u001b[1;33m\u001b[0m\u001b[0m\n\u001b[1;32m---> 61\u001b[1;33m                 \u001b[0mspecgram_gamma\u001b[0m \u001b[1;33m=\u001b[0m \u001b[0mnp\u001b[0m\u001b[1;33m.\u001b[0m\u001b[0mvstack\u001b[0m\u001b[1;33m(\u001b[0m\u001b[1;33m[\u001b[0m\u001b[0mspecgram_gamma\u001b[0m\u001b[1;33m,\u001b[0m \u001b[0mcompute_spectrogram\u001b[0m\u001b[1;33m(\u001b[0m\u001b[0mgamma\u001b[0m\u001b[1;33m[\u001b[0m\u001b[0mindex\u001b[0m \u001b[1;33m*\u001b[0m \u001b[0msample_size\u001b[0m\u001b[1;33m:\u001b[0m\u001b[1;33m(\u001b[0m\u001b[0mindex\u001b[0m \u001b[1;33m+\u001b[0m \u001b[1;36m1\u001b[0m\u001b[1;33m)\u001b[0m \u001b[1;33m*\u001b[0m \u001b[0msample_size\u001b[0m\u001b[1;33m]\u001b[0m\u001b[1;33m)\u001b[0m\u001b[1;33m.\u001b[0m\u001b[0mreshape\u001b[0m\u001b[1;33m(\u001b[0m\u001b[1;36m1\u001b[0m\u001b[1;33m,\u001b[0m\u001b[1;36m229\u001b[0m\u001b[1;33m,\u001b[0m\u001b[1;36m229\u001b[0m\u001b[1;33m)\u001b[0m\u001b[1;33m]\u001b[0m\u001b[1;33m)\u001b[0m\u001b[1;33m\u001b[0m\u001b[1;33m\u001b[0m\u001b[0m\n\u001b[0m\u001b[0;32m     62\u001b[0m                 \u001b[1;31m# print(fft_delta.shape, fft_theta.shape, fft_alpha.shape, fft_beta.shape, fft_gamma.shape)\u001b[0m\u001b[1;33m\u001b[0m\u001b[1;33m\u001b[0m\u001b[0m\n\u001b[0;32m     63\u001b[0m \u001b[1;33m\u001b[0m\u001b[0m\n",
      "\u001b[1;32mC:\\Users\\VAIBHA~1.IMA\\AppData\\Local\\Temp/ipykernel_16308/3707660479.py\u001b[0m in \u001b[0;36mcompute_spectrogram\u001b[1;34m(signal, sr, frame_size, hop)\u001b[0m\n\u001b[0;32m      1\u001b[0m \u001b[1;32mdef\u001b[0m \u001b[0mcompute_spectrogram\u001b[0m\u001b[1;33m(\u001b[0m\u001b[0msignal\u001b[0m\u001b[1;33m,\u001b[0m \u001b[0msr\u001b[0m\u001b[1;33m=\u001b[0m\u001b[0mfs\u001b[0m\u001b[1;33m,\u001b[0m\u001b[0mframe_size\u001b[0m \u001b[1;33m=\u001b[0m \u001b[0mframe_size\u001b[0m\u001b[1;33m,\u001b[0m \u001b[0mhop\u001b[0m \u001b[1;33m=\u001b[0m \u001b[0mhop_size\u001b[0m\u001b[1;33m)\u001b[0m\u001b[1;33m:\u001b[0m\u001b[1;33m\u001b[0m\u001b[1;33m\u001b[0m\u001b[0m\n\u001b[1;32m----> 2\u001b[1;33m     \u001b[0mstft\u001b[0m \u001b[1;33m=\u001b[0m \u001b[0mlibrosa\u001b[0m\u001b[1;33m.\u001b[0m\u001b[0mstft\u001b[0m\u001b[1;33m(\u001b[0m\u001b[0msignal\u001b[0m\u001b[1;33m,\u001b[0m \u001b[0mn_fft\u001b[0m\u001b[1;33m=\u001b[0m\u001b[0mframe_size\u001b[0m\u001b[1;33m,\u001b[0m \u001b[0mhop_length\u001b[0m\u001b[1;33m=\u001b[0m\u001b[0mhop\u001b[0m\u001b[1;33m)\u001b[0m\u001b[1;33m\u001b[0m\u001b[1;33m\u001b[0m\u001b[0m\n\u001b[0m\u001b[0;32m      3\u001b[0m     \u001b[0mlog_stft\u001b[0m\u001b[1;33m=\u001b[0m \u001b[0mlibrosa\u001b[0m\u001b[1;33m.\u001b[0m\u001b[0mpower_to_db\u001b[0m\u001b[1;33m(\u001b[0m\u001b[0mnp\u001b[0m\u001b[1;33m.\u001b[0m\u001b[0mabs\u001b[0m\u001b[1;33m(\u001b[0m\u001b[0mstft\u001b[0m\u001b[1;33m)\u001b[0m \u001b[1;33m**\u001b[0m \u001b[1;36m2\u001b[0m\u001b[1;33m)\u001b[0m\u001b[1;33m\u001b[0m\u001b[1;33m\u001b[0m\u001b[0m\n\u001b[0;32m      4\u001b[0m     \u001b[1;32mreturn\u001b[0m \u001b[0mlog_stft\u001b[0m\u001b[1;33m\u001b[0m\u001b[1;33m\u001b[0m\u001b[0m\n\u001b[0;32m      5\u001b[0m \u001b[1;31m#     print(log_stft.shape)\u001b[0m\u001b[1;33m\u001b[0m\u001b[1;33m\u001b[0m\u001b[0m\n",
      "\u001b[1;32m~\\Anaconda3\\lib\\site-packages\\librosa\\util\\decorators.py\u001b[0m in \u001b[0;36minner_f\u001b[1;34m(*args, **kwargs)\u001b[0m\n\u001b[0;32m     86\u001b[0m             \u001b[0mextra_args\u001b[0m \u001b[1;33m=\u001b[0m \u001b[0mlen\u001b[0m\u001b[1;33m(\u001b[0m\u001b[0margs\u001b[0m\u001b[1;33m)\u001b[0m \u001b[1;33m-\u001b[0m \u001b[0mlen\u001b[0m\u001b[1;33m(\u001b[0m\u001b[0mall_args\u001b[0m\u001b[1;33m)\u001b[0m\u001b[1;33m\u001b[0m\u001b[1;33m\u001b[0m\u001b[0m\n\u001b[0;32m     87\u001b[0m             \u001b[1;32mif\u001b[0m \u001b[0mextra_args\u001b[0m \u001b[1;33m<=\u001b[0m \u001b[1;36m0\u001b[0m\u001b[1;33m:\u001b[0m\u001b[1;33m\u001b[0m\u001b[1;33m\u001b[0m\u001b[0m\n\u001b[1;32m---> 88\u001b[1;33m                 \u001b[1;32mreturn\u001b[0m \u001b[0mf\u001b[0m\u001b[1;33m(\u001b[0m\u001b[1;33m*\u001b[0m\u001b[0margs\u001b[0m\u001b[1;33m,\u001b[0m \u001b[1;33m**\u001b[0m\u001b[0mkwargs\u001b[0m\u001b[1;33m)\u001b[0m\u001b[1;33m\u001b[0m\u001b[1;33m\u001b[0m\u001b[0m\n\u001b[0m\u001b[0;32m     89\u001b[0m \u001b[1;33m\u001b[0m\u001b[0m\n\u001b[0;32m     90\u001b[0m             \u001b[1;31m# extra_args > 0\u001b[0m\u001b[1;33m\u001b[0m\u001b[1;33m\u001b[0m\u001b[0m\n",
      "\u001b[1;32m~\\Anaconda3\\lib\\site-packages\\librosa\\core\\spectrum.py\u001b[0m in \u001b[0;36mstft\u001b[1;34m(y, n_fft, hop_length, win_length, window, center, dtype, pad_mode)\u001b[0m\n\u001b[0;32m    253\u001b[0m \u001b[1;33m\u001b[0m\u001b[0m\n\u001b[0;32m    254\u001b[0m         stft_matrix[..., bl_s:bl_t] = fft.rfft(\n\u001b[1;32m--> 255\u001b[1;33m             \u001b[0mfft_window\u001b[0m \u001b[1;33m*\u001b[0m \u001b[0my_frames\u001b[0m\u001b[1;33m[\u001b[0m\u001b[1;33m...\u001b[0m\u001b[1;33m,\u001b[0m \u001b[0mbl_s\u001b[0m\u001b[1;33m:\u001b[0m\u001b[0mbl_t\u001b[0m\u001b[1;33m]\u001b[0m\u001b[1;33m,\u001b[0m \u001b[0maxis\u001b[0m\u001b[1;33m=\u001b[0m\u001b[1;33m-\u001b[0m\u001b[1;36m2\u001b[0m\u001b[1;33m\u001b[0m\u001b[1;33m\u001b[0m\u001b[0m\n\u001b[0m\u001b[0;32m    256\u001b[0m         )\n\u001b[0;32m    257\u001b[0m     \u001b[1;32mreturn\u001b[0m \u001b[0mstft_matrix\u001b[0m\u001b[1;33m\u001b[0m\u001b[1;33m\u001b[0m\u001b[0m\n",
      "\u001b[1;31mKeyboardInterrupt\u001b[0m: "
     ]
    }
   ],
   "source": [
    "for subject in range(0,15):\n",
    "    for exp in range(1,4):\n",
    "        file_name = f\"{eeg_raw_file_path}{str(exp)}/{session_file_dict[exp][subject]}\"\n",
    "        print(f'processing {session_file_dict[exp][subject]}')\n",
    "        decompose_ram_efficient(file_name, session_file_dict[exp][subject], exp)\n",
    "    for exp in range(1,4):\n",
    "        all_trial_sizes[exp] = []\n",
    "    print(\"###########################################################\")"
   ]
  },
  {
   "cell_type": "code",
   "execution_count": null,
   "id": "0b83f191",
   "metadata": {},
   "outputs": [],
   "source": [
    "trail_samples = {1:68,2:68,3:60,4:69,5:54,6:57,7:69,8:63,9:77,10:69,11:68,12:68,13:68,14:69,15:60}"
   ]
  },
  {
   "cell_type": "code",
   "execution_count": null,
   "id": "9e0a41b2",
   "metadata": {},
   "outputs": [],
   "source": []
  },
  {
   "cell_type": "code",
   "execution_count": null,
   "id": "cdf24a37",
   "metadata": {},
   "outputs": [],
   "source": []
  },
  {
   "cell_type": "code",
   "execution_count": null,
   "id": "7dc595fd",
   "metadata": {},
   "outputs": [],
   "source": []
  },
  {
   "cell_type": "code",
   "execution_count": 21,
   "id": "e306a7a5",
   "metadata": {},
   "outputs": [
    {
     "name": "stdout",
     "output_type": "stream",
     "text": [
      "Once deleted, variables cannot be recovered. Proceed (y/[n])? y\n"
     ]
    }
   ],
   "source": [
    "%reset"
   ]
  }
 ],
 "metadata": {
  "kernelspec": {
   "display_name": "Python 3 (ipykernel)",
   "language": "python",
   "name": "python3"
  },
  "language_info": {
   "codemirror_mode": {
    "name": "ipython",
    "version": 3
   },
   "file_extension": ".py",
   "mimetype": "text/x-python",
   "name": "python",
   "nbconvert_exporter": "python",
   "pygments_lexer": "ipython3",
   "version": "3.9.7"
  }
 },
 "nbformat": 4,
 "nbformat_minor": 5
}
